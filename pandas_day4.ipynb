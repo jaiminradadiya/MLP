{
  "nbformat": 4,
  "nbformat_minor": 0,
  "metadata": {
    "colab": {
      "provenance": []
    },
    "kernelspec": {
      "name": "python3",
      "display_name": "Python 3"
    },
    "language_info": {
      "name": "python"
    }
  },
  "cells": [
    {
      "cell_type": "code",
      "execution_count": null,
      "metadata": {
        "id": "-sDRIg7Wttbl"
      },
      "outputs": [],
      "source": [
        "import pandas as pd"
      ]
    },
    {
      "cell_type": "code",
      "source": [
        "df = pd.read_csv('/content/car_sales.csv')\n",
        "df"
      ],
      "metadata": {
        "colab": {
          "base_uri": "https://localhost:8080/",
          "height": 614
        },
        "id": "6z5QBCwqt25j",
        "outputId": "83ad7673-214f-4af4-c2cb-4912a0d9139d"
      },
      "execution_count": null,
      "outputs": [
        {
          "output_type": "execute_result",
          "data": {
            "text/plain": [
              "          Date      Salesperson          Customer Name   Car Make  Car Model  \\\n",
              "0   2022-08-01  Monica Moore MD            Mary Butler     Nissan     Altima   \n",
              "1   2023-03-15     Roberto Rose         Richard Pierce     Nissan      F-150   \n",
              "2   2023-04-29     Ashley Ramos           Sandra Moore       Ford      Civic   \n",
              "3   2022-09-04   Patrick Harris           Johnny Scott       Ford     Altima   \n",
              "4   2022-06-16       Eric Lopez          Vanessa Jones      Honda  Silverado   \n",
              "..         ...              ...                    ...        ...        ...   \n",
              "94  2023-01-23    Donald Guerra           John Goodwin       Ford     Altima   \n",
              "95  2023-03-13      Alyssa Boyd           James Turner     Nissan      F-150   \n",
              "96  2022-12-31      Ryan Barnes              Mary Wong     Toyota  Silverado   \n",
              "97  2022-12-29     Megan Kaiser  Christopher Alexander       Ford      Civic   \n",
              "98  2023-04-16   Michael Jordan     Thomas Blankenship  Chevrolet     Altima   \n",
              "\n",
              "    Car Year  Sale Price  Commission Rate  Commission Earned  \n",
              "0       2018       15983         0.070495            1126.73  \n",
              "1       2016       38474         0.134439            5172.40  \n",
              "2       2016       33340         0.114536            3818.63  \n",
              "3       2013       41937         0.092191            3866.20  \n",
              "4       2022       20256         0.113490            2298.85  \n",
              "..       ...         ...              ...                ...  \n",
              "94      2020       25964         0.098219            2550.15  \n",
              "95      2016       10872         0.109547            1190.99  \n",
              "96      2018       17650         0.105740            1866.32  \n",
              "97      2013       25256         0.055621            1404.76  \n",
              "98      2014       31462         0.103951            3270.51  \n",
              "\n",
              "[99 rows x 9 columns]"
            ],
            "text/html": [
              "\n",
              "  <div id=\"df-58d9bf6f-f545-475d-9a0b-479c9a1a1222\" class=\"colab-df-container\">\n",
              "    <div>\n",
              "<style scoped>\n",
              "    .dataframe tbody tr th:only-of-type {\n",
              "        vertical-align: middle;\n",
              "    }\n",
              "\n",
              "    .dataframe tbody tr th {\n",
              "        vertical-align: top;\n",
              "    }\n",
              "\n",
              "    .dataframe thead th {\n",
              "        text-align: right;\n",
              "    }\n",
              "</style>\n",
              "<table border=\"1\" class=\"dataframe\">\n",
              "  <thead>\n",
              "    <tr style=\"text-align: right;\">\n",
              "      <th></th>\n",
              "      <th>Date</th>\n",
              "      <th>Salesperson</th>\n",
              "      <th>Customer Name</th>\n",
              "      <th>Car Make</th>\n",
              "      <th>Car Model</th>\n",
              "      <th>Car Year</th>\n",
              "      <th>Sale Price</th>\n",
              "      <th>Commission Rate</th>\n",
              "      <th>Commission Earned</th>\n",
              "    </tr>\n",
              "  </thead>\n",
              "  <tbody>\n",
              "    <tr>\n",
              "      <th>0</th>\n",
              "      <td>2022-08-01</td>\n",
              "      <td>Monica Moore MD</td>\n",
              "      <td>Mary Butler</td>\n",
              "      <td>Nissan</td>\n",
              "      <td>Altima</td>\n",
              "      <td>2018</td>\n",
              "      <td>15983</td>\n",
              "      <td>0.070495</td>\n",
              "      <td>1126.73</td>\n",
              "    </tr>\n",
              "    <tr>\n",
              "      <th>1</th>\n",
              "      <td>2023-03-15</td>\n",
              "      <td>Roberto Rose</td>\n",
              "      <td>Richard Pierce</td>\n",
              "      <td>Nissan</td>\n",
              "      <td>F-150</td>\n",
              "      <td>2016</td>\n",
              "      <td>38474</td>\n",
              "      <td>0.134439</td>\n",
              "      <td>5172.40</td>\n",
              "    </tr>\n",
              "    <tr>\n",
              "      <th>2</th>\n",
              "      <td>2023-04-29</td>\n",
              "      <td>Ashley Ramos</td>\n",
              "      <td>Sandra Moore</td>\n",
              "      <td>Ford</td>\n",
              "      <td>Civic</td>\n",
              "      <td>2016</td>\n",
              "      <td>33340</td>\n",
              "      <td>0.114536</td>\n",
              "      <td>3818.63</td>\n",
              "    </tr>\n",
              "    <tr>\n",
              "      <th>3</th>\n",
              "      <td>2022-09-04</td>\n",
              "      <td>Patrick Harris</td>\n",
              "      <td>Johnny Scott</td>\n",
              "      <td>Ford</td>\n",
              "      <td>Altima</td>\n",
              "      <td>2013</td>\n",
              "      <td>41937</td>\n",
              "      <td>0.092191</td>\n",
              "      <td>3866.20</td>\n",
              "    </tr>\n",
              "    <tr>\n",
              "      <th>4</th>\n",
              "      <td>2022-06-16</td>\n",
              "      <td>Eric Lopez</td>\n",
              "      <td>Vanessa Jones</td>\n",
              "      <td>Honda</td>\n",
              "      <td>Silverado</td>\n",
              "      <td>2022</td>\n",
              "      <td>20256</td>\n",
              "      <td>0.113490</td>\n",
              "      <td>2298.85</td>\n",
              "    </tr>\n",
              "    <tr>\n",
              "      <th>...</th>\n",
              "      <td>...</td>\n",
              "      <td>...</td>\n",
              "      <td>...</td>\n",
              "      <td>...</td>\n",
              "      <td>...</td>\n",
              "      <td>...</td>\n",
              "      <td>...</td>\n",
              "      <td>...</td>\n",
              "      <td>...</td>\n",
              "    </tr>\n",
              "    <tr>\n",
              "      <th>94</th>\n",
              "      <td>2023-01-23</td>\n",
              "      <td>Donald Guerra</td>\n",
              "      <td>John Goodwin</td>\n",
              "      <td>Ford</td>\n",
              "      <td>Altima</td>\n",
              "      <td>2020</td>\n",
              "      <td>25964</td>\n",
              "      <td>0.098219</td>\n",
              "      <td>2550.15</td>\n",
              "    </tr>\n",
              "    <tr>\n",
              "      <th>95</th>\n",
              "      <td>2023-03-13</td>\n",
              "      <td>Alyssa Boyd</td>\n",
              "      <td>James Turner</td>\n",
              "      <td>Nissan</td>\n",
              "      <td>F-150</td>\n",
              "      <td>2016</td>\n",
              "      <td>10872</td>\n",
              "      <td>0.109547</td>\n",
              "      <td>1190.99</td>\n",
              "    </tr>\n",
              "    <tr>\n",
              "      <th>96</th>\n",
              "      <td>2022-12-31</td>\n",
              "      <td>Ryan Barnes</td>\n",
              "      <td>Mary Wong</td>\n",
              "      <td>Toyota</td>\n",
              "      <td>Silverado</td>\n",
              "      <td>2018</td>\n",
              "      <td>17650</td>\n",
              "      <td>0.105740</td>\n",
              "      <td>1866.32</td>\n",
              "    </tr>\n",
              "    <tr>\n",
              "      <th>97</th>\n",
              "      <td>2022-12-29</td>\n",
              "      <td>Megan Kaiser</td>\n",
              "      <td>Christopher Alexander</td>\n",
              "      <td>Ford</td>\n",
              "      <td>Civic</td>\n",
              "      <td>2013</td>\n",
              "      <td>25256</td>\n",
              "      <td>0.055621</td>\n",
              "      <td>1404.76</td>\n",
              "    </tr>\n",
              "    <tr>\n",
              "      <th>98</th>\n",
              "      <td>2023-04-16</td>\n",
              "      <td>Michael Jordan</td>\n",
              "      <td>Thomas Blankenship</td>\n",
              "      <td>Chevrolet</td>\n",
              "      <td>Altima</td>\n",
              "      <td>2014</td>\n",
              "      <td>31462</td>\n",
              "      <td>0.103951</td>\n",
              "      <td>3270.51</td>\n",
              "    </tr>\n",
              "  </tbody>\n",
              "</table>\n",
              "<p>99 rows × 9 columns</p>\n",
              "</div>\n",
              "    <div class=\"colab-df-buttons\">\n",
              "\n",
              "  <div class=\"colab-df-container\">\n",
              "    <button class=\"colab-df-convert\" onclick=\"convertToInteractive('df-58d9bf6f-f545-475d-9a0b-479c9a1a1222')\"\n",
              "            title=\"Convert this dataframe to an interactive table.\"\n",
              "            style=\"display:none;\">\n",
              "\n",
              "  <svg xmlns=\"http://www.w3.org/2000/svg\" height=\"24px\" viewBox=\"0 -960 960 960\">\n",
              "    <path d=\"M120-120v-720h720v720H120Zm60-500h600v-160H180v160Zm220 220h160v-160H400v160Zm0 220h160v-160H400v160ZM180-400h160v-160H180v160Zm440 0h160v-160H620v160ZM180-180h160v-160H180v160Zm440 0h160v-160H620v160Z\"/>\n",
              "  </svg>\n",
              "    </button>\n",
              "\n",
              "  <style>\n",
              "    .colab-df-container {\n",
              "      display:flex;\n",
              "      gap: 12px;\n",
              "    }\n",
              "\n",
              "    .colab-df-convert {\n",
              "      background-color: #E8F0FE;\n",
              "      border: none;\n",
              "      border-radius: 50%;\n",
              "      cursor: pointer;\n",
              "      display: none;\n",
              "      fill: #1967D2;\n",
              "      height: 32px;\n",
              "      padding: 0 0 0 0;\n",
              "      width: 32px;\n",
              "    }\n",
              "\n",
              "    .colab-df-convert:hover {\n",
              "      background-color: #E2EBFA;\n",
              "      box-shadow: 0px 1px 2px rgba(60, 64, 67, 0.3), 0px 1px 3px 1px rgba(60, 64, 67, 0.15);\n",
              "      fill: #174EA6;\n",
              "    }\n",
              "\n",
              "    .colab-df-buttons div {\n",
              "      margin-bottom: 4px;\n",
              "    }\n",
              "\n",
              "    [theme=dark] .colab-df-convert {\n",
              "      background-color: #3B4455;\n",
              "      fill: #D2E3FC;\n",
              "    }\n",
              "\n",
              "    [theme=dark] .colab-df-convert:hover {\n",
              "      background-color: #434B5C;\n",
              "      box-shadow: 0px 1px 3px 1px rgba(0, 0, 0, 0.15);\n",
              "      filter: drop-shadow(0px 1px 2px rgba(0, 0, 0, 0.3));\n",
              "      fill: #FFFFFF;\n",
              "    }\n",
              "  </style>\n",
              "\n",
              "    <script>\n",
              "      const buttonEl =\n",
              "        document.querySelector('#df-58d9bf6f-f545-475d-9a0b-479c9a1a1222 button.colab-df-convert');\n",
              "      buttonEl.style.display =\n",
              "        google.colab.kernel.accessAllowed ? 'block' : 'none';\n",
              "\n",
              "      async function convertToInteractive(key) {\n",
              "        const element = document.querySelector('#df-58d9bf6f-f545-475d-9a0b-479c9a1a1222');\n",
              "        const dataTable =\n",
              "          await google.colab.kernel.invokeFunction('convertToInteractive',\n",
              "                                                    [key], {});\n",
              "        if (!dataTable) return;\n",
              "\n",
              "        const docLinkHtml = 'Like what you see? Visit the ' +\n",
              "          '<a target=\"_blank\" href=https://colab.research.google.com/notebooks/data_table.ipynb>data table notebook</a>'\n",
              "          + ' to learn more about interactive tables.';\n",
              "        element.innerHTML = '';\n",
              "        dataTable['output_type'] = 'display_data';\n",
              "        await google.colab.output.renderOutput(dataTable, element);\n",
              "        const docLink = document.createElement('div');\n",
              "        docLink.innerHTML = docLinkHtml;\n",
              "        element.appendChild(docLink);\n",
              "      }\n",
              "    </script>\n",
              "  </div>\n",
              "\n",
              "\n",
              "<div id=\"df-c63d69d6-b088-40d0-9b16-8d942c515bd1\">\n",
              "  <button class=\"colab-df-quickchart\" onclick=\"quickchart('df-c63d69d6-b088-40d0-9b16-8d942c515bd1')\"\n",
              "            title=\"Suggest charts\"\n",
              "            style=\"display:none;\">\n",
              "\n",
              "<svg xmlns=\"http://www.w3.org/2000/svg\" height=\"24px\"viewBox=\"0 0 24 24\"\n",
              "     width=\"24px\">\n",
              "    <g>\n",
              "        <path d=\"M19 3H5c-1.1 0-2 .9-2 2v14c0 1.1.9 2 2 2h14c1.1 0 2-.9 2-2V5c0-1.1-.9-2-2-2zM9 17H7v-7h2v7zm4 0h-2V7h2v10zm4 0h-2v-4h2v4z\"/>\n",
              "    </g>\n",
              "</svg>\n",
              "  </button>\n",
              "\n",
              "<style>\n",
              "  .colab-df-quickchart {\n",
              "      --bg-color: #E8F0FE;\n",
              "      --fill-color: #1967D2;\n",
              "      --hover-bg-color: #E2EBFA;\n",
              "      --hover-fill-color: #174EA6;\n",
              "      --disabled-fill-color: #AAA;\n",
              "      --disabled-bg-color: #DDD;\n",
              "  }\n",
              "\n",
              "  [theme=dark] .colab-df-quickchart {\n",
              "      --bg-color: #3B4455;\n",
              "      --fill-color: #D2E3FC;\n",
              "      --hover-bg-color: #434B5C;\n",
              "      --hover-fill-color: #FFFFFF;\n",
              "      --disabled-bg-color: #3B4455;\n",
              "      --disabled-fill-color: #666;\n",
              "  }\n",
              "\n",
              "  .colab-df-quickchart {\n",
              "    background-color: var(--bg-color);\n",
              "    border: none;\n",
              "    border-radius: 50%;\n",
              "    cursor: pointer;\n",
              "    display: none;\n",
              "    fill: var(--fill-color);\n",
              "    height: 32px;\n",
              "    padding: 0;\n",
              "    width: 32px;\n",
              "  }\n",
              "\n",
              "  .colab-df-quickchart:hover {\n",
              "    background-color: var(--hover-bg-color);\n",
              "    box-shadow: 0 1px 2px rgba(60, 64, 67, 0.3), 0 1px 3px 1px rgba(60, 64, 67, 0.15);\n",
              "    fill: var(--button-hover-fill-color);\n",
              "  }\n",
              "\n",
              "  .colab-df-quickchart-complete:disabled,\n",
              "  .colab-df-quickchart-complete:disabled:hover {\n",
              "    background-color: var(--disabled-bg-color);\n",
              "    fill: var(--disabled-fill-color);\n",
              "    box-shadow: none;\n",
              "  }\n",
              "\n",
              "  .colab-df-spinner {\n",
              "    border: 2px solid var(--fill-color);\n",
              "    border-color: transparent;\n",
              "    border-bottom-color: var(--fill-color);\n",
              "    animation:\n",
              "      spin 1s steps(1) infinite;\n",
              "  }\n",
              "\n",
              "  @keyframes spin {\n",
              "    0% {\n",
              "      border-color: transparent;\n",
              "      border-bottom-color: var(--fill-color);\n",
              "      border-left-color: var(--fill-color);\n",
              "    }\n",
              "    20% {\n",
              "      border-color: transparent;\n",
              "      border-left-color: var(--fill-color);\n",
              "      border-top-color: var(--fill-color);\n",
              "    }\n",
              "    30% {\n",
              "      border-color: transparent;\n",
              "      border-left-color: var(--fill-color);\n",
              "      border-top-color: var(--fill-color);\n",
              "      border-right-color: var(--fill-color);\n",
              "    }\n",
              "    40% {\n",
              "      border-color: transparent;\n",
              "      border-right-color: var(--fill-color);\n",
              "      border-top-color: var(--fill-color);\n",
              "    }\n",
              "    60% {\n",
              "      border-color: transparent;\n",
              "      border-right-color: var(--fill-color);\n",
              "    }\n",
              "    80% {\n",
              "      border-color: transparent;\n",
              "      border-right-color: var(--fill-color);\n",
              "      border-bottom-color: var(--fill-color);\n",
              "    }\n",
              "    90% {\n",
              "      border-color: transparent;\n",
              "      border-bottom-color: var(--fill-color);\n",
              "    }\n",
              "  }\n",
              "</style>\n",
              "\n",
              "  <script>\n",
              "    async function quickchart(key) {\n",
              "      const quickchartButtonEl =\n",
              "        document.querySelector('#' + key + ' button');\n",
              "      quickchartButtonEl.disabled = true;  // To prevent multiple clicks.\n",
              "      quickchartButtonEl.classList.add('colab-df-spinner');\n",
              "      try {\n",
              "        const charts = await google.colab.kernel.invokeFunction(\n",
              "            'suggestCharts', [key], {});\n",
              "      } catch (error) {\n",
              "        console.error('Error during call to suggestCharts:', error);\n",
              "      }\n",
              "      quickchartButtonEl.classList.remove('colab-df-spinner');\n",
              "      quickchartButtonEl.classList.add('colab-df-quickchart-complete');\n",
              "    }\n",
              "    (() => {\n",
              "      let quickchartButtonEl =\n",
              "        document.querySelector('#df-c63d69d6-b088-40d0-9b16-8d942c515bd1 button');\n",
              "      quickchartButtonEl.style.display =\n",
              "        google.colab.kernel.accessAllowed ? 'block' : 'none';\n",
              "    })();\n",
              "  </script>\n",
              "</div>\n",
              "\n",
              "  <div id=\"id_6c8831c4-856f-4f06-8463-1e45a0c84e7c\">\n",
              "    <style>\n",
              "      .colab-df-generate {\n",
              "        background-color: #E8F0FE;\n",
              "        border: none;\n",
              "        border-radius: 50%;\n",
              "        cursor: pointer;\n",
              "        display: none;\n",
              "        fill: #1967D2;\n",
              "        height: 32px;\n",
              "        padding: 0 0 0 0;\n",
              "        width: 32px;\n",
              "      }\n",
              "\n",
              "      .colab-df-generate:hover {\n",
              "        background-color: #E2EBFA;\n",
              "        box-shadow: 0px 1px 2px rgba(60, 64, 67, 0.3), 0px 1px 3px 1px rgba(60, 64, 67, 0.15);\n",
              "        fill: #174EA6;\n",
              "      }\n",
              "\n",
              "      [theme=dark] .colab-df-generate {\n",
              "        background-color: #3B4455;\n",
              "        fill: #D2E3FC;\n",
              "      }\n",
              "\n",
              "      [theme=dark] .colab-df-generate:hover {\n",
              "        background-color: #434B5C;\n",
              "        box-shadow: 0px 1px 3px 1px rgba(0, 0, 0, 0.15);\n",
              "        filter: drop-shadow(0px 1px 2px rgba(0, 0, 0, 0.3));\n",
              "        fill: #FFFFFF;\n",
              "      }\n",
              "    </style>\n",
              "    <button class=\"colab-df-generate\" onclick=\"generateWithVariable('df')\"\n",
              "            title=\"Generate code using this dataframe.\"\n",
              "            style=\"display:none;\">\n",
              "\n",
              "  <svg xmlns=\"http://www.w3.org/2000/svg\" height=\"24px\"viewBox=\"0 0 24 24\"\n",
              "       width=\"24px\">\n",
              "    <path d=\"M7,19H8.4L18.45,9,17,7.55,7,17.6ZM5,21V16.75L18.45,3.32a2,2,0,0,1,2.83,0l1.4,1.43a1.91,1.91,0,0,1,.58,1.4,1.91,1.91,0,0,1-.58,1.4L9.25,21ZM18.45,9,17,7.55Zm-12,3A5.31,5.31,0,0,0,4.9,8.1,5.31,5.31,0,0,0,1,6.5,5.31,5.31,0,0,0,4.9,4.9,5.31,5.31,0,0,0,6.5,1,5.31,5.31,0,0,0,8.1,4.9,5.31,5.31,0,0,0,12,6.5,5.46,5.46,0,0,0,6.5,12Z\"/>\n",
              "  </svg>\n",
              "    </button>\n",
              "    <script>\n",
              "      (() => {\n",
              "      const buttonEl =\n",
              "        document.querySelector('#id_6c8831c4-856f-4f06-8463-1e45a0c84e7c button.colab-df-generate');\n",
              "      buttonEl.style.display =\n",
              "        google.colab.kernel.accessAllowed ? 'block' : 'none';\n",
              "\n",
              "      buttonEl.onclick = () => {\n",
              "        google.colab.notebook.generateWithVariable('df');\n",
              "      }\n",
              "      })();\n",
              "    </script>\n",
              "  </div>\n",
              "\n",
              "    </div>\n",
              "  </div>\n"
            ],
            "application/vnd.google.colaboratory.intrinsic+json": {
              "type": "dataframe",
              "variable_name": "df",
              "summary": "{\n  \"name\": \"df\",\n  \"rows\": 99,\n  \"fields\": [\n    {\n      \"column\": \"Date\",\n      \"properties\": {\n        \"dtype\": \"object\",\n        \"min\": \"2022-05-10\",\n        \"max\": \"2023-04-29\",\n        \"samples\": [\n          \"2022-09-23\",\n          \"2022-08-01\",\n          \"2022-10-16\"\n        ],\n        \"num_unique_values\": 86,\n        \"semantic_type\": \"\",\n        \"description\": \"\"\n      }\n    },\n    {\n      \"column\": \"Salesperson\",\n      \"properties\": {\n        \"dtype\": \"string\",\n        \"samples\": [\n          \"Tom Hunt\",\n          \"Heather Davidson\",\n          \"Alyssa Boyd\"\n        ],\n        \"num_unique_values\": 99,\n        \"semantic_type\": \"\",\n        \"description\": \"\"\n      }\n    },\n    {\n      \"column\": \"Customer Name\",\n      \"properties\": {\n        \"dtype\": \"string\",\n        \"samples\": [\n          \"Tammy Wood\",\n          \"Rachel Madden\",\n          \"James Turner\"\n        ],\n        \"num_unique_values\": 99,\n        \"semantic_type\": \"\",\n        \"description\": \"\"\n      }\n    },\n    {\n      \"column\": \"Car Make\",\n      \"properties\": {\n        \"dtype\": \"category\",\n        \"samples\": [\n          \"Ford\",\n          \"Chevrolet\",\n          \"Honda\"\n        ],\n        \"num_unique_values\": 5,\n        \"semantic_type\": \"\",\n        \"description\": \"\"\n      }\n    },\n    {\n      \"column\": \"Car Model\",\n      \"properties\": {\n        \"dtype\": \"category\",\n        \"samples\": [\n          \"F-150\",\n          \"Corolla\",\n          \"Civic\"\n        ],\n        \"num_unique_values\": 5,\n        \"semantic_type\": \"\",\n        \"description\": \"\"\n      }\n    },\n    {\n      \"column\": \"Car Year\",\n      \"properties\": {\n        \"dtype\": \"number\",\n        \"std\": 3,\n        \"min\": 2010,\n        \"max\": 2022,\n        \"samples\": [\n          2012,\n          2014,\n          2018\n        ],\n        \"num_unique_values\": 13,\n        \"semantic_type\": \"\",\n        \"description\": \"\"\n      }\n    },\n    {\n      \"column\": \"Sale Price\",\n      \"properties\": {\n        \"dtype\": \"number\",\n        \"std\": 10867,\n        \"min\": 10313,\n        \"max\": 48916,\n        \"samples\": [\n          36750,\n          17997,\n          10872\n        ],\n        \"num_unique_values\": 99,\n        \"semantic_type\": \"\",\n        \"description\": \"\"\n      }\n    },\n    {\n      \"column\": \"Commission Rate\",\n      \"properties\": {\n        \"dtype\": \"number\",\n        \"std\": 0.027091325307109778,\n        \"min\": 0.0518528764213676,\n        \"max\": 0.14992578196198,\n        \"samples\": [\n          0.10244553172281,\n          0.0626928636848073,\n          0.109546904071734\n        ],\n        \"num_unique_values\": 99,\n        \"semantic_type\": \"\",\n        \"description\": \"\"\n      }\n    },\n    {\n      \"column\": \"Commission Earned\",\n      \"properties\": {\n        \"dtype\": \"number\",\n        \"std\": 1415.463346174289,\n        \"min\": 804.14,\n        \"max\": 6678.72,\n        \"samples\": [\n          3764.87,\n          1128.28,\n          1190.99\n        ],\n        \"num_unique_values\": 99,\n        \"semantic_type\": \"\",\n        \"description\": \"\"\n      }\n    }\n  ]\n}"
            }
          },
          "metadata": {},
          "execution_count": 3
        }
      ]
    },
    {
      "cell_type": "code",
      "source": [
        "print('missing values:\\n' ,df.isnull().sum())\n"
      ],
      "metadata": {
        "colab": {
          "base_uri": "https://localhost:8080/"
        },
        "id": "Eu7iofXDt-HD",
        "outputId": "6e7b4b18-d576-4569-d7eb-0407b77f697a"
      },
      "execution_count": null,
      "outputs": [
        {
          "output_type": "stream",
          "name": "stdout",
          "text": [
            "missing values:\n",
            " Date                 0\n",
            "Salesperson          0\n",
            "Customer Name        0\n",
            "Car Make             0\n",
            "Car Model            0\n",
            "Car Year             0\n",
            "Sale Price           0\n",
            "Commission Rate      0\n",
            "Commission Earned    0\n",
            "dtype: int64\n"
          ]
        }
      ]
    },
    {
      "cell_type": "code",
      "source": [
        "# check the range of values for each variable\n",
        "print('variable changes values:\\n' ,df.describe())\n",
        "# describe -> statical information of data"
      ],
      "metadata": {
        "colab": {
          "base_uri": "https://localhost:8080/"
        },
        "id": "CLnv6Y3buGs2",
        "outputId": "f19f7091-c405-4aeb-a407-957aefdd1e91"
      },
      "execution_count": null,
      "outputs": [
        {
          "output_type": "stream",
          "name": "stdout",
          "text": [
            "variable changes values:\n",
            "           Car Year    Sale Price  Commission Rate  Commission Earned\n",
            "count    99.000000     99.000000        99.000000          99.000000\n",
            "mean   2016.161616  28622.989899         0.104150        2984.722323\n",
            "std       3.616027  10867.683713         0.027091        1415.463346\n",
            "min    2010.000000  10313.000000         0.051853         804.140000\n",
            "25%    2013.000000  18382.000000         0.084937        1920.225000\n",
            "50%    2016.000000  28160.000000         0.102855        2720.130000\n",
            "75%    2019.000000  36864.500000         0.124378        3807.860000\n",
            "max    2022.000000  48916.000000         0.149926        6678.720000\n"
          ]
        }
      ]
    },
    {
      "cell_type": "code",
      "source": [
        "unique_car_makes = df['Car Make'].unique()\n",
        "unique_car_models = df['Car Model'].unique()"
      ],
      "metadata": {
        "id": "Di6RsoAZutnA"
      },
      "execution_count": null,
      "outputs": []
    },
    {
      "cell_type": "code",
      "source": [
        "print(\"Unique car make : \\n\", unique_car_makes)\n",
        "print(\"Unique car make : \\n\", unique_car_models)"
      ],
      "metadata": {
        "colab": {
          "base_uri": "https://localhost:8080/"
        },
        "id": "gPR1kJ7QvVcv",
        "outputId": "f063931e-48dc-4413-b9c5-741980152aa1"
      },
      "execution_count": null,
      "outputs": [
        {
          "output_type": "stream",
          "name": "stdout",
          "text": [
            "Unique car make : \n",
            " ['Nissan' 'Ford' 'Honda' 'Toyota' 'Chevrolet']\n",
            "Unique car make : \n",
            " ['Altima' 'F-150' 'Civic' 'Silverado' 'Corolla']\n"
          ]
        }
      ]
    },
    {
      "cell_type": "code",
      "source": [
        "# df['Car Make'].value_counts()\n",
        "df['Car Model'].value_counts()"
      ],
      "metadata": {
        "colab": {
          "base_uri": "https://localhost:8080/"
        },
        "id": "5oPPwb91vjrw",
        "outputId": "61c3ffdf-e203-4c83-efbf-479a2d6dda42"
      },
      "execution_count": null,
      "outputs": [
        {
          "output_type": "execute_result",
          "data": {
            "text/plain": [
              "Altima       26\n",
              "Civic        24\n",
              "Corolla      20\n",
              "F-150        16\n",
              "Silverado    13\n",
              "Name: Car Model, dtype: int64"
            ]
          },
          "metadata": {},
          "execution_count": 15
        }
      ]
    },
    {
      "cell_type": "code",
      "source": [
        "import matplotlib.pyplot as plt\n",
        "car_make_counts = df ['Car Make'].value_counts()\n",
        "\n",
        "#Create a pie chart\n",
        "\n",
        "fig, ax = plt.subplots(figsize=(6, 6))\n",
        "ax.pie(car_make_counts, labels=car_make_counts.index, autopct='%1.0f%%', startangle=1090)\n",
        "ax.axis('equal')\n",
        "ax.set_title('Distribution of Car Makes')\n",
        "plt.show()\n"
      ],
      "metadata": {
        "colab": {
          "base_uri": "https://localhost:8080/",
          "height": 527
        },
        "id": "C4EIyxqAv7R5",
        "outputId": "81b71e98-29ff-49aa-a1cb-e54ae8d32dbe"
      },
      "execution_count": null,
      "outputs": [
        {
          "output_type": "display_data",
          "data": {
            "text/plain": [
              "<Figure size 600x600 with 1 Axes>"
            ],
            "image/png": "[encoded data removed]"
          },
          "metadata": {}
        }
      ]
    },
    {
      "cell_type": "code",
      "source": [
        "import matplotlib.pyplot as plt\n",
        "car_model_counts = df ['Car Model'].value_counts()\n",
        "\n",
        "#Create a pie chart\n",
        "\n",
        "fig, ax = plt.subplots(figsize=(6, 6))\n",
        "ax.pie(car_model_counts, labels=car_model_counts.index, autopct='%1.0f%%', startangle=100)\n",
        "ax.axis('equal')\n",
        "ax.set_title('Distribution of Car Model')\n",
        "plt.show()\n",
        "\n"
      ],
      "metadata": {
        "colab": {
          "base_uri": "https://localhost:8080/",
          "height": 521
        },
        "id": "7w9_Vx3TxtMY",
        "outputId": "8cd123ae-bd58-4247-e99e-59b4c429c117"
      },
      "execution_count": null,
      "outputs": [
        {
          "output_type": "display_data",
          "data": {
            "text/plain": [
              "<Figure size 600x600 with 1 Axes>"
            ],
            "image/png": "[encoded data removed]"
          },
          "metadata": {}
        }
      ]
    },
    {
      "cell_type": "code",
      "source": [
        "# find top sales person\n",
        "# df['commission']\n",
        "# top_salesperson = df['Commission Earned'].idxmax()\n",
        "# print(\"Salesperson:\", top_salesperson)\n",
        "top_salesperson=df.iloc[df['Commission Earned'].idxmax()]\n",
        "name=top_salesperson['Customer Name']\n",
        "print(\"top sale commissio rate : \", top_salesperson,\"\\n sales person name : \",name)"
      ],
      "metadata": {
        "colab": {
          "base_uri": "https://localhost:8080/"
        },
        "id": "tHelGICE01Lu",
        "outputId": "5ba7ad4d-bad3-48b7-e882-473899a56926"
      },
      "execution_count": null,
      "outputs": [
        {
          "output_type": "stream",
          "name": "stdout",
          "text": [
            "top sale commissio rate :  Date                   2023-02-11\n",
            "Salesperson           David Gomez\n",
            "Customer Name        Linda Conrad\n",
            "Car Make                   Nissan\n",
            "Car Model                  Altima\n",
            "Car Year                     2019\n",
            "Sale Price                  46164\n",
            "Commission Rate          0.144674\n",
            "Commission Earned         6678.72\n",
            "Name: 55, dtype: object \n",
            " sales person name :  Linda Conrad\n"
          ]
        }
      ]
    },
    {
      "cell_type": "code",
      "source": [
        "name=df.iloc[df['Commission Earned'].idxmin()]\n",
        "name['Salesperson']"
      ],
      "metadata": {
        "colab": {
          "base_uri": "https://localhost:8080/",
          "height": 35
        },
        "id": "cOncreBi3JL0",
        "outputId": "e2457961-6b1c-48eb-a76f-4bae9b399e18"
      },
      "execution_count": null,
      "outputs": [
        {
          "output_type": "execute_result",
          "data": {
            "text/plain": [
              "'Shawn Cummings'"
            ],
            "application/vnd.google.colaboratory.intrinsic+json": {
              "type": "string"
            }
          },
          "metadata": {},
          "execution_count": 76
        }
      ]
    },
    {
      "cell_type": "code",
      "source": [
        "most_sold_car_make = df['Car Make'].value_counts().idxmin()\n",
        "print(\"The most sold car make is:\", most_sold_car_make)"
      ],
      "metadata": {
        "colab": {
          "base_uri": "https://localhost:8080/"
        },
        "id": "l0m_fvL65usj",
        "outputId": "1794659f-f45a-43eb-e5f5-9a982a35f993"
      },
      "execution_count": null,
      "outputs": [
        {
          "output_type": "stream",
          "name": "stdout",
          "text": [
            "The most sold car make is: Honda\n"
          ]
        }
      ]
    },
    {
      "cell_type": "code",
      "source": [
        "df['Car Make'].value_counts().head()"
      ],
      "metadata": {
        "id": "9NUVrGga6Kwo"
      },
      "execution_count": null,
      "outputs": []
    }
  ]
}